{
 "cells": [
  {
   "cell_type": "markdown",
   "metadata": {},
   "source": [
    "# code in session"
   ]
  },
  {
   "cell_type": "code",
   "execution_count": 11,
   "metadata": {},
   "outputs": [
    {
     "name": "stdout",
     "output_type": "stream",
     "text": [
      "mahmoud\n",
      "20\n"
     ]
    }
   ],
   "source": [
    "# code in session\n",
    "class student:\n",
    "    def __init__(object , name , age, id):\n",
    "        object.name = name #att name\n",
    "        object.age = age #att age\n",
    "        object.id = id\n",
    "    def study(object , time):\n",
    "        return f\"the time it take to study {object.time}\"\n",
    "    def display_info(object):\n",
    "        return f\"name : {object.name} , ID : {object.id} , age : {object.age}\"\n",
    "studnet1 = student(\"mahmoud\",20, 2020300)\n",
    "studnet1.display_info()\n",
    "print(studnet1.name)\n",
    "print(studnet1.age)\n",
    "\n"
   ]
  },
  {
   "cell_type": "markdown",
   "metadata": {},
   "source": [
    "# example calculator"
   ]
  },
  {
   "cell_type": "code",
   "execution_count": 12,
   "metadata": {},
   "outputs": [
    {
     "data": {
      "text/plain": [
       "'sum = 12 , multi = 20 , division = 5.0'"
      ]
     },
     "execution_count": 12,
     "metadata": {},
     "output_type": "execute_result"
    }
   ],
   "source": [
    "# example calculator\n",
    "class calculator:\n",
    "    def __init__(object , sum , multi , division):\n",
    "        object.sum = sum #att sum\n",
    "        object.multi = multi # att multi\n",
    "        object.division = division # attt division\n",
    "    def calc_operation(object ,time):\n",
    "        return f\"this is my calculatoor {object.time}\"\n",
    "    def dec_ope(object):\n",
    "        return f\"sum = {object.sum} , multi = {object.multi} , division = {object.division}\" #retirn this variables\n",
    "calc1 = calculator(10+2 , 10*2 , 10/2)\n",
    "calc1.dec_ope()\n"
   ]
  },
  {
   "cell_type": "markdown",
   "metadata": {},
   "source": [
    "# bank accout example"
   ]
  },
  {
   "cell_type": "code",
   "execution_count": 13,
   "metadata": {},
   "outputs": [
    {
     "name": "stdout",
     "output_type": "stream",
     "text": [
      "My languaage is Arabic\n",
      "I have A new account\n",
      "my name is mahmoud\n",
      "im 20 years old\n",
      "I have a withrdraw 2000 EGP\n",
      "10000\n"
     ]
    },
    {
     "data": {
      "text/plain": [
       "8000"
      ]
     },
     "execution_count": 13,
     "metadata": {},
     "output_type": "execute_result"
    }
   ],
   "source": [
    "# bank accout\n",
    "language= \"My languaage is Arabic\"\n",
    "sign_in = \"I have A new account\"\n",
    "name = \"my name is mahmoud\"\n",
    "age = \"im 20 years old\"\n",
    "service = \"I have a withrdraw 2000 EGP\"\n",
    "my_mon = 10000\n",
    "print(language)\n",
    "print(sign_in)\n",
    "print(name)\n",
    "print(age)\n",
    "print(service)\n",
    "print(my_mon)\n",
    "money = lambda x : my_mon - 2000\n",
    "money(1000)\n"
   ]
  },
  {
   "cell_type": "markdown",
   "metadata": {},
   "source": [
    "# Library system"
   ]
  },
  {
   "cell_type": "code",
   "execution_count": 14,
   "metadata": {},
   "outputs": [
    {
     "name": "stdout",
     "output_type": "stream",
     "text": [
      "My languaage is Arabic\n",
      "I have A new account\n",
      "my name is mahmoud\n",
      "im 20 years old\n",
      "I have buy a programming book\n",
      "book price is 100\n"
     ]
    },
    {
     "data": {
      "text/plain": [
       "100"
      ]
     },
     "execution_count": 14,
     "metadata": {},
     "output_type": "execute_result"
    }
   ],
   "source": [
    "# Library system\n",
    "language= \"My languaage is Arabic\"\n",
    "sign_in = \"I have A new account\"\n",
    "name = \"my name is mahmoud\"\n",
    "age = \"im 20 years old\"\n",
    "service = \"I have buy a programming book\"\n",
    "book_money = \"book price is 100\"\n",
    "pounds = 200\n",
    "print(language)\n",
    "print(sign_in)\n",
    "print(name)\n",
    "print(age)\n",
    "print(service)\n",
    "print(book_money)\n",
    "sheap = lambda x : pounds - 100\n",
    "sheap(100)\n"
   ]
  },
  {
   "cell_type": "markdown",
   "metadata": {},
   "source": [
    "# example voting"
   ]
  },
  {
   "cell_type": "code",
   "execution_count": 15,
   "metadata": {},
   "outputs": [
    {
     "data": {
      "text/plain": [
       "'my name is mahmoud AND my id is 3041223 AND color of my vote = red'"
      ]
     },
     "execution_count": 15,
     "metadata": {},
     "output_type": "execute_result"
    }
   ],
   "source": [
    "# example voting\n",
    "\n",
    "class voting :\n",
    "    def __init__(object , name , id , color):\n",
    "        object.name = name\n",
    "        object.id = id\n",
    "        object.color = color\n",
    "    def hack_vote(object ,time):\n",
    "        return f\"This is my vote {object.time}\"\n",
    "    def calc(object):\n",
    "        return f\"my name is {object.name} AND my id is {object.id} AND color of my vote = {object.color}\"\n",
    "vot1 = voting(\"mahmoud\" , 3041223 , \"red\")\n",
    "vot1.calc()"
   ]
  },
  {
   "cell_type": "markdown",
   "metadata": {},
   "source": [
    "# Modeling a Car Rental System\n"
   ]
  },
  {
   "cell_type": "code",
   "execution_count": null,
   "metadata": {},
   "outputs": [
    {
     "data": {
      "text/plain": [
       "'My name is Mahmoud, my ID is 20230, and my car brand is Mercedes.'"
      ]
     },
     "execution_count": 20,
     "metadata": {},
     "output_type": "execute_result"
    }
   ],
   "source": [
    "class Rental:\n",
    "    def __init__(self, name, id, car):\n",
    "        self.name = name\n",
    "        self.id = id\n",
    "        self.car = car\n",
    "\n",
    "    def brand(self, time):\n",
    "        return \"This is my car.\"\n",
    "\n",
    "    def ben(self):\n",
    "        return f\"My name is {self.name}, my ID is {self.id}, and my car brand is {self.car}.\"\n",
    "\n",
    "# Creating an instance\n",
    "rena1 = Rental(\"Mahmoud\", 20230, \"Mercedes\")\n",
    "\n",
    "# Printing the output of the ben method\n",
    "print(rena1.ben())\n"
   ]
  },
  {
   "cell_type": "markdown",
   "metadata": {},
   "source": [
    "# Creating a Student Management System\n"
   ]
  },
  {
   "cell_type": "code",
   "execution_count": 22,
   "metadata": {},
   "outputs": [
    {
     "data": {
      "text/plain": [
       "\"My name is Mahmoud, I'm 15 years old, I wake up at 6 o'clock, I go to school at 6.3, and I return home at 2 o'clock.\""
      ]
     },
     "execution_count": 22,
     "metadata": {},
     "output_type": "execute_result"
    }
   ],
   "source": [
    "class Student:\n",
    "    def __init__(self, name, age, weakup, goo, back):\n",
    "        self.name = name\n",
    "        self.age = age\n",
    "        self.weakup = weakup\n",
    "        self.goo = goo\n",
    "        self.back = back\n",
    "\n",
    "    # Method to describe the student's daily routine\n",
    "    def brand(self, time):\n",
    "        return \"This is my daily routine.\"\n",
    "\n",
    "    # Method to return details of the student's daily routine\n",
    "    def dialy(self):\n",
    "        return (f\"My name is {self.name}, \"\n",
    "                f\"I'm {self.age} years old, \"\n",
    "                f\"I wake up at {self.weakup} o'clock, \"\n",
    "                f\"I go to school at {self.goo}, \"\n",
    "                f\"and I return home at {self.back} o'clock.\")\n",
    "\n",
    "# Creating an instance\n",
    "stu1 = Student(\"Mahmoud\", 15, 6, 6.30, 2)\n",
    "\n",
    "# Displaying the daily routine\n",
    "stu1.dialy()\n"
   ]
  },
  {
   "cell_type": "markdown",
   "metadata": {},
   "source": [
    "# Managing a Simple Inventory System\n"
   ]
  },
  {
   "cell_type": "code",
   "execution_count": 23,
   "metadata": {},
   "outputs": [
    {
     "name": "stdout",
     "output_type": "stream",
     "text": [
      "Laptop: $800, Quantity: 10\n",
      "Mouse: $20, Quantity: 50\n",
      "Sold 3 of Laptop.\n",
      "Sold 5 of Mouse.\n",
      "Laptop: $800, Quantity: 7\n",
      "Mouse: $20, Quantity: 45\n"
     ]
    }
   ],
   "source": [
    "class Product:\n",
    "    def __init__(self, name, price, quantity):\n",
    "        self.name = name\n",
    "        self.price = price\n",
    "        self.quantity = quantity\n",
    "\n",
    "    def sell(self, quantity):\n",
    "        if self.quantity >= quantity:\n",
    "            self.quantity -= quantity\n",
    "            print(f\"Sold {quantity} of {self.name}.\")\n",
    "        else:\n",
    "            print(f\"Not enough stock of {self.name}.\")\n",
    "\n",
    "    def display(self):\n",
    "        print(f\"{self.name}: ${self.price}, Quantity: {self.quantity}\")\n",
    "\n",
    "\n",
    "# Example usage\n",
    "product1 = Product(\"Laptop\", 800, 10)\n",
    "product2 = Product(\"Mouse\", 20, 50)\n",
    "\n",
    "# Display inventory\n",
    "product1.display()\n",
    "product2.display()\n",
    "\n",
    "# Sell some products\n",
    "product1.sell(3)\n",
    "product2.sell(5)\n",
    "\n",
    "# Display updated inventory\n",
    "product1.display()\n",
    "product2.display()\n"
   ]
  },
  {
   "cell_type": "markdown",
   "metadata": {},
   "source": [
    "# Simple Temperature Converter"
   ]
  },
  {
   "cell_type": "code",
   "execution_count": null,
   "metadata": {},
   "outputs": [],
   "source": [
    "temp = float(input(\"Enter the temperature: \"))\n",
    "unit = input(\"Is this in Celsius or Fahrenheit? (C/F): \").strip().upper()\n",
    "\n",
    "if unit == \"C\":\n",
    "    converted = (temp * 9/5) + 32\n",
    "    print(f\"{temp}°C is {converted:.2f}°F\")\n",
    "elif unit == \"F\":\n",
    "    converted = (temp - 32) * 5/9\n",
    "    print(f\"{temp}°F is {converted:.2f}°C\")\n",
    "else:\n",
    "    print(\"Invalid input! Please enter 'C' for Celsius or 'F' for Fahrenheit.\")\n"
   ]
  }
 ],
 "metadata": {
  "kernelspec": {
   "display_name": "Python 3",
   "language": "python",
   "name": "python3"
  },
  "language_info": {
   "codemirror_mode": {
    "name": "ipython",
    "version": 3
   },
   "file_extension": ".py",
   "mimetype": "text/x-python",
   "name": "python",
   "nbconvert_exporter": "python",
   "pygments_lexer": "ipython3",
   "version": "3.11.9"
  }
 },
 "nbformat": 4,
 "nbformat_minor": 2
}
